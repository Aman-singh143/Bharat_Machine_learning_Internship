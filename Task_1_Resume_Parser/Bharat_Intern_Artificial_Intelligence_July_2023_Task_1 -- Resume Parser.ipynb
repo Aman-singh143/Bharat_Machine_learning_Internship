{
 "cells": [
  {
   "cell_type": "markdown",
   "id": "d11f980e",
   "metadata": {},
   "source": [
    "## Importing the necessary modules"
   ]
  },
  {
   "cell_type": "code",
   "execution_count": 1,
   "id": "7806a174",
   "metadata": {},
   "outputs": [
    {
     "name": "stderr",
     "output_type": "stream",
     "text": [
      "[nltk_data] Downloading package punkt to\n",
      "[nltk_data]     C:\\Users\\Amamk\\AppData\\Roaming\\nltk_data...\n",
      "[nltk_data]   Unzipping tokenizers\\punkt.zip.\n",
      "[nltk_data] Downloading package stopwords to\n",
      "[nltk_data]     C:\\Users\\Amamk\\AppData\\Roaming\\nltk_data...\n",
      "[nltk_data]   Package stopwords is already up-to-date!\n"
     ]
    },
    {
     "data": {
      "text/plain": [
       "True"
      ]
     },
     "execution_count": 1,
     "metadata": {},
     "output_type": "execute_result"
    }
   ],
   "source": [
    "import nltk\n",
    "from nltk.tokenize import word_tokenize, sent_tokenize\n",
    "from nltk.corpus import stopwords\n",
    "from nltk.tag import pos_tag\n",
    "from nltk import FreqDist\n",
    "nltk.download('punkt')\n",
    "nltk.download('stopwords')"
   ]
  },
  {
   "cell_type": "markdown",
   "id": "b7cd4a60",
   "metadata": {},
   "source": [
    "## Step - 1: Creating a function to Tokenize the text and remove stopwords"
   ]
  },
  {
   "cell_type": "code",
   "execution_count": 7,
   "id": "c923544c",
   "metadata": {},
   "outputs": [],
   "source": [
    "def preprocess_text(text):\n",
    "    # Tokenize the text\n",
    "    tokens = word_tokenize(text.lower())\n",
    "\n",
    "    # Remove stopwords\n",
    "    stop_words = set(stopwords.words(\"english\")) #selected text language is English\n",
    "    filtered_tokens = [token for token in tokens if token not in stop_words]\n",
    "\n",
    "    return filtered_tokens"
   ]
  },
  {
   "cell_type": "markdown",
   "id": "0c0e4449",
   "metadata": {},
   "source": [
    "## Step - 2: CALCULATING SIMILARITY\n",
    "\n",
    "The calculate_similarity function first preprocesses the job keywords and candidate profile by tokenizing, converting to lowercase, and removing stopwords. It then creates frequency distributions for both texts and identifies common tokens between them. Using the term frequencies of these common tokens, the function calculates a similarity score. This score reflects the overlap and relevance between the job keywords and candidate profile.\n"
   ]
  },
  {
   "cell_type": "code",
   "execution_count": 8,
   "id": "f8fcd149",
   "metadata": {},
   "outputs": [],
   "source": [
    "def calculate_similarity(job_keywords, candidate_profile):\n",
    "    # Preprocess the job keywords and candidate profile\n",
    "    job_tokens = preprocess_text(job_keywords)\n",
    "    candidate_tokens = preprocess_text(candidate_profile)\n",
    "\n",
    "    # Calculate term frequencies\n",
    "    job_frequencies = FreqDist(job_tokens)\n",
    "    candidate_frequencies = FreqDist(candidate_tokens)\n",
    "\n",
    "    # Calculate the similarity score\n",
    "    common_tokens = set(job_frequencies.keys()) & set(candidate_frequencies.keys())\n",
    "    score = sum([job_frequencies[token] * candidate_frequencies[token] for token in common_tokens])\n",
    "\n",
    "    return score\n"
   ]
  },
  {
   "cell_type": "markdown",
   "id": "9efa1062",
   "metadata": {},
   "source": [
    "## Step -3 : Finding the best candidate\n",
    "\n",
    "A: The find_best_candidate function sets up best_score and best_candidate to track the top similarity score and its corresponding candidate.\n",
    "\n",
    "B: The function goes through each candidate in candidate_details.\n",
    "\n",
    "C: It calculates similarity by comparing job_keywords with candidate_profile using calculate_similarity.\n",
    "\n",
    "D: If the current candidate's score surpasses best_score, update both best_score and best_candidate.\n",
    "\n",
    "E: After checking all candidates, the function returns the best candidate's name with the highest similarity score."
   ]
  },
  {
   "cell_type": "code",
   "execution_count": 9,
   "id": "f1462f96",
   "metadata": {},
   "outputs": [],
   "source": [
    "def find_best_candidate(job_keywords, candidate_details):\n",
    "    best_score = 0\n",
    "    best_candidate = None\n",
    "\n",
    "    for candidate in candidate_details:\n",
    "        candidate_profile = candidate['profile']\n",
    "        score = calculate_similarity(job_keywords, candidate_profile)\n",
    "\n",
    "        if score > best_score:\n",
    "            best_score = score\n",
    "            best_candidate = candidate['name']\n",
    "\n",
    "    return best_candidate\n"
   ]
  },
  {
   "cell_type": "code",
   "execution_count": 10,
   "id": "a8c07eb1",
   "metadata": {},
   "outputs": [],
   "source": [
    "def take_job_inputs():\n",
    "    job_description = input(\"Enter the job description: \")\n",
    "    num_candidates = int(input(\"\\n\\nEnter the number of candidates: \"))\n",
    "\n",
    "    candidate_details = []\n",
    "    for i in range(num_candidates):\n",
    "        name = input(f\"\\n\\nEnter the name of candidate {i+1}: \")\n",
    "        profile = input(f\"\\n\\nEnter the profile details of candidate {i+1}: \")\n",
    "        candidate_details.append({'name': name, 'profile': profile})\n",
    "\n",
    "    return job_description, candidate_details"
   ]
  },
  {
   "cell_type": "code",
   "execution_count": 11,
   "id": "24bfd4fd",
   "metadata": {},
   "outputs": [],
   "source": [
    "def find_best_candidate_for_job(job_keywords, candidate_details):\n",
    "    best_score = 0\n",
    "    best_candidate = None\n",
    "\n",
    "    for candidate in candidate_details:\n",
    "        candidate_profile = candidate['profile']\n",
    "        score = calculate_similarity(job_keywords, candidate_profile)\n",
    "\n",
    "        if score > best_score:\n",
    "            best_score = score\n",
    "            best_candidate = candidate['name']\n",
    "\n",
    "    return best_candidate"
   ]
  },
  {
   "cell_type": "code",
   "execution_count": 12,
   "id": "5d1064ad",
   "metadata": {
    "scrolled": false
   },
   "outputs": [
    {
     "ename": "ValueError",
     "evalue": "invalid literal for int() with base 10: ''",
     "output_type": "error",
     "traceback": [
      "\u001b[1;31m---------------------------------------------------------------------------\u001b[0m",
      "\u001b[1;31mValueError\u001b[0m                                Traceback (most recent call last)",
      "Cell \u001b[1;32mIn[12], line 1\u001b[0m\n\u001b[1;32m----> 1\u001b[0m job_description, candidate_details \u001b[39m=\u001b[39m take_job_inputs()\n",
      "Cell \u001b[1;32mIn[10], line 3\u001b[0m, in \u001b[0;36mtake_job_inputs\u001b[1;34m()\u001b[0m\n\u001b[0;32m      1\u001b[0m \u001b[39mdef\u001b[39;00m \u001b[39mtake_job_inputs\u001b[39m():\n\u001b[0;32m      2\u001b[0m     job_description \u001b[39m=\u001b[39m \u001b[39minput\u001b[39m(\u001b[39m\"\u001b[39m\u001b[39mEnter the job description: \u001b[39m\u001b[39m\"\u001b[39m)\n\u001b[1;32m----> 3\u001b[0m     num_candidates \u001b[39m=\u001b[39m \u001b[39mint\u001b[39;49m(\u001b[39minput\u001b[39;49m(\u001b[39m\"\u001b[39;49m\u001b[39m\\n\u001b[39;49;00m\u001b[39m\\n\u001b[39;49;00m\u001b[39mEnter the number of candidates: \u001b[39;49m\u001b[39m\"\u001b[39;49m))\n\u001b[0;32m      5\u001b[0m     candidate_details \u001b[39m=\u001b[39m []\n\u001b[0;32m      6\u001b[0m     \u001b[39mfor\u001b[39;00m i \u001b[39min\u001b[39;00m \u001b[39mrange\u001b[39m(num_candidates):\n",
      "\u001b[1;31mValueError\u001b[0m: invalid literal for int() with base 10: ''"
     ]
    }
   ],
   "source": [
    "job_description, candidate_details = take_job_inputs()"
   ]
  },
  {
   "cell_type": "code",
   "execution_count": null,
   "id": "a2b19ef6",
   "metadata": {},
   "outputs": [
    {
     "name": "stdout",
     "output_type": "stream",
     "text": [
      "The best candidate for the job is: David\n"
     ]
    }
   ],
   "source": [
    "best_candidate = find_best_candidate_for_job(job_description, candidate_details)\n",
    "print(f\"The best candidate for the job is: {best_candidate}\")"
   ]
  },
  {
   "cell_type": "code",
   "execution_count": null,
   "id": "4cc3ec48",
   "metadata": {},
   "outputs": [],
   "source": []
  }
 ],
 "metadata": {
  "kernelspec": {
   "display_name": "Python 3 (ipykernel)",
   "language": "python",
   "name": "python3"
  },
  "language_info": {
   "codemirror_mode": {
    "name": "ipython",
    "version": 3
   },
   "file_extension": ".py",
   "mimetype": "text/x-python",
   "name": "python",
   "nbconvert_exporter": "python",
   "pygments_lexer": "ipython3",
   "version": "3.11.4"
  }
 },
 "nbformat": 4,
 "nbformat_minor": 5
}
