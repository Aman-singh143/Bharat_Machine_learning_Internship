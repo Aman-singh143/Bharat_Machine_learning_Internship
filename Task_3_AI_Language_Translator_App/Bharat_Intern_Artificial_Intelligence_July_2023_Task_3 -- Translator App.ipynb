{
 "cells": [
  {
   "cell_type": "code",
   "execution_count": 76,
   "id": "60724ef1",
   "metadata": {},
   "outputs": [],
   "source": [
    "#!pip install googletrans==4.0.0-rc1\n",
    "#!pip install indic-transliteration\n",
    "#from googletrans import Translator\n",
    "#from indic_transliteration import sanscript\n",
    "from googletrans import Translator\n",
    "from langdetect import detect"
   ]
  },
  {
   "cell_type": "markdown",
   "id": "6e1acec7",
   "metadata": {},
   "source": [
    "### Step 2 : 'translate(text, input_lang_code, target_lang_code)'\n",
    "\n",
    "### The translate function utilizes the googletrans library to translate text between different languages using the Google Translate API. It takes three input parameters: the text to be translated, the language code of the input text, and the language code of the target language for translation. The function attempts to translate the input text from the specified source language to the specified target language. If the translation is successful, it returns the translated text; otherwise, it catches any exceptions that may occur during the translation process, prints an error message, and returns None.\n"
   ]
  },
  {
   "cell_type": "code",
   "execution_count": 77,
   "id": "086ddbfa",
   "metadata": {},
   "outputs": [],
   "source": [
    "def translate(text, input_lang_code, target_lang_code):\n",
    "    translator = Translator()\n",
    "    try:\n",
    "        translated = translator.translate(text, src=input_lang_code, dest=target_lang_code)\n",
    "        return translated.text\n",
    "    except Exception as e:\n",
    "        print(f\"Translation failed: {str(e)}\")\n",
    "        return None"
   ]
  },
  {
   "cell_type": "markdown",
   "id": "e67aa00a",
   "metadata": {},
   "source": [
    "### Step 3 :-\n",
    "\n",
    "### This is the main function of the AI Language Translator App. It displays the supported languages and asks the user to select the input and target languages. Depending on the selected input language, it sets the appropriate language code for translation or transliteration. Then, it takes the user input text and passes it to the translate() function for translation or transliteration. Finally, it prints the translated or transliterated text."
   ]
  },
  {
   "cell_type": "code",
   "execution_count": 78,
   "id": "808f31d0",
   "metadata": {},
   "outputs": [],
   "source": [
    "def main():\n",
    "    print(\"AI Language Translator App\")\n",
    "    print(\"\\n\\nSupported languages:\")\n",
    "    print(\"1. English\")\n",
    "    print(\"2. Hindi\")\n",
    "    print(\"3. Marathi\")\n",
    "\n",
    "    input_lang = int(input(\"\\n\\nSelect the input language (1 to 3): \"))\n",
    "    target_lang = int(input(\"\\n\\nSelect the target language (1 to 3): \"))\n",
    "\n",
    "    if input_lang == 1:\n",
    "        input_lang_code = 'en'\n",
    "    elif input_lang == 2:\n",
    "        input_lang_code = 'hi'\n",
    "    elif input_lang == 3:\n",
    "        input_lang_code = 'mr'\n",
    "    else:\n",
    "        print(\"\\n\\nInvalid input language selection.\")\n",
    "        return\n",
    "\n",
    "    if target_lang == 1:\n",
    "        target_lang_code = 'en'\n",
    "    elif target_lang == 2:\n",
    "        target_lang_code = 'hi'\n",
    "    elif target_lang == 3:\n",
    "        target_lang_code = 'mr'\n",
    "    else:\n",
    "        print(\"\\n\\nInvalid target language selection.\")\n",
    "        return\n",
    "\n",
    "    text = input(\"\\n\\nEnter the text you want to translate: \")\n",
    "\n",
    "    translated_text = translate(text, input_lang_code, target_lang_code)\n",
    "    print(\"\\n\\nTranslated Text:\")\n",
    "    print(translated_text)"
   ]
  },
  {
   "cell_type": "markdown",
   "id": "ab9a6e4e",
   "metadata": {},
   "source": [
    "## Real-time execution\n",
    "\n",
    "### English to Hindi"
   ]
  },
  {
   "cell_type": "code",
   "execution_count": 79,
   "id": "fea91baf",
   "metadata": {},
   "outputs": [
    {
     "name": "stdout",
     "output_type": "stream",
     "text": [
      "AI Language Translator App\n",
      "\n",
      "\n",
      "Supported languages:\n",
      "1. English\n",
      "2. Hindi\n",
      "3. Marathi\n",
      "\n",
      "\n",
      "Select the input language (1 to 3): 1\n",
      "\n",
      "\n",
      "Select the target language (1 to 3): 2\n",
      "\n",
      "\n",
      "Enter the text you want to translate: Artificial Intelligence (AI) has become a buzzword in recent years, with rapid  advancements in technology. Its impact on various industries has been  unprecedented. AI has the potential to revolutionize the way we live and work.  From self-driving cars to virtual assistants, the applications of AI are vast and  wide-ranging. However, there are also concerns and skeptisisms surrounding its  widespread adoption. Some people worry about job losses as AI and robots take  over human tasks, while others are concerned about the ethical implications of  AI, especially in areas like privacy and data security. The potential of AI in healthcare is enormous. AI applications, such as  diagnostics and image recognition, can help doctors make more accurate  decisions and improve patient outcomes. AI can analyze large amounts of  medical data to identify trends and patterns that humans might miss. This can  lead to earlier detection of diseases and more effective treatments. However,  there are challenges in implementing AI in the medical field. Issues like data  privacy, regulatory compliance, and getting physicians to trust AI algorithms are  some of the hurdles that need to be addressed. In the educational sphere, AI has the potential to transform the way students  learn and interact with information. Smart classrooms equipped with AI\u0002powered edutech can adapt to individual learning styles, providing customized  lessons and practices. AI chatbots and tutorial systems offer real-time assistance  to students, and grading papers can be simplified with automated evaluation.  With AI, the process of research and data collection can be accelerated, making  it easier for scholars to access information. Nonetheless, integrating AI in  education requires significant investment in infrastructure and teacher training.  Addressing issues of accessibility and equity will be crucial to ensure all students  benefit from AI advancements\n",
      "\n",
      "\n",
      "Translated Text:\n",
      "आर्टिफिशियल इंटेलिजेंस (एआई) हाल के वर्षों में प्रौद्योगिकी में तेजी से प्रगति के साथ एक चर्चा बन गया है।विभिन्न उद्योगों पर इसका प्रभाव अभूतपूर्व रहा है।एआई में हमारे जीने और काम करने के तरीके में क्रांति लाने की क्षमता है।सेल्फ-ड्राइविंग कारों से लेकर वर्चुअल असिस्टेंट तक, एआई के एप्लिकेशन विशाल और व्यापक हैं।हालांकि, इसकी व्यापक गोद लेने के आसपास चिंताएं और संदेह भी हैं।कुछ लोग नौकरी के नुकसान के बारे में चिंता करते हैं क्योंकि एआई और रोबोट मानवीय कार्यों को संभालते हैं, जबकि अन्य एआई के नैतिक निहितार्थों के बारे में चिंतित हैं, विशेष रूप से गोपनीयता और डेटा सुरक्षा जैसे क्षेत्रों में।हेल्थकेयर में एआई की क्षमता बहुत अधिक है।एआई एप्लिकेशन, जैसे निदान और छवि मान्यता, डॉक्टरों को अधिक सटीक निर्णय लेने और रोगी परिणामों में सुधार करने में मदद कर सकते हैं।AI उन रुझानों और पैटर्न की पहचान करने के लिए बड़ी मात्रा में चिकित्सा डेटा का विश्लेषण कर सकता है जो मनुष्यों को याद कर सकते हैं।इससे पहले रोगों और अधिक प्रभावी उपचारों का पता चल सकता है।हालांकि, चिकित्सा क्षेत्र में एआई को लागू करने में चुनौतियां हैं।डेटा गोपनीयता, नियामक अनुपालन, और एआई एल्गोरिदम पर भरोसा करने के लिए चिकित्सकों को प्राप्त करने जैसे मुद्दे कुछ बाधाएं हैं जिन्हें संबोधित करने की आवश्यकता है।शैक्षिक क्षेत्र में, एआई में छात्रों को सीखने और जानकारी के साथ बातचीत करने के तरीके को बदलने की क्षमता है।AI संचालित Edutech से लैस स्मार्ट क्लासरूम व्यक्तिगत सीखने की शैलियों के अनुकूल हो सकते हैं, जो अनुकूलित पाठ और प्रथाएं प्रदान कर सकते हैं।एआई चैटबॉट्स और ट्यूटोरियल सिस्टम छात्रों को वास्तविक समय सहायता प्रदान करते हैं, और ग्रेडिंग पेपर को स्वचालित मूल्यांकन के साथ सरल किया जा सकता है।एआई के साथ, अनुसंधान और डेटा संग्रह की प्रक्रिया को तेज किया जा सकता है, जिससे विद्वानों के लिए जानकारी का उपयोग करना आसान हो जाता है।बहरहाल, शिक्षा में एआई को एकीकृत करने के लिए बुनियादी ढांचे और शिक्षक प्रशिक्षण में महत्वपूर्ण निवेश की आवश्यकता होती है।सभी छात्रों को एआई प्रगति से लाभान्वित करने के लिए पहुंच और इक्विटी के मुद्दों को संबोधित करना महत्वपूर्ण होगा\n"
     ]
    }
   ],
   "source": [
    "main()"
   ]
  },
  {
   "cell_type": "markdown",
   "id": "3d6e56e3",
   "metadata": {},
   "source": [
    "### English to Marathi"
   ]
  },
  {
   "cell_type": "code",
   "execution_count": 80,
   "id": "2db0fb23",
   "metadata": {},
   "outputs": [
    {
     "name": "stdout",
     "output_type": "stream",
     "text": [
      "AI Language Translator App\n",
      "\n",
      "\n",
      "Supported languages:\n",
      "1. English\n",
      "2. Hindi\n",
      "3. Marathi\n",
      "\n",
      "\n",
      "Select the input language (1 to 3): 1\n",
      "\n",
      "\n",
      "Select the target language (1 to 3): 3\n",
      "\n",
      "\n",
      "Enter the text you want to translate: Artificial Intelligence (AI) has become a buzzword in recent years, with rapid  advancements in technology. Its impact on various industries has been  unprecedented. AI has the potential to revolutionize the way we live and work.  From self-driving cars to virtual assistants, the applications of AI are vast and  wide-ranging. However, there are also concerns and skeptisisms surrounding its  widespread adoption. Some people worry about job losses as AI and robots take  over human tasks, while others are concerned about the ethical implications of  AI, especially in areas like privacy and data security. The potential of AI in healthcare is enormous. AI applications, such as  diagnostics and image recognition, can help doctors make more accurate  decisions and improve patient outcomes. AI can analyze large amounts of  medical data to identify trends and patterns that humans might miss. This can  lead to earlier detection of diseases and more effective treatments. However,  there are challenges in implementing AI in the medical field. Issues like data  privacy, regulatory compliance, and getting physicians to trust AI algorithms are  some of the hurdles that need to be addressed. In the educational sphere, AI has the potential to transform the way students  learn and interact with information. Smart classrooms equipped with AI\u0002powered edutech can adapt to individual learning styles, providing customized  lessons and practices. AI chatbots and tutorial systems offer real-time assistance  to students, and grading papers can be simplified with automated evaluation.  With AI, the process of research and data collection can be accelerated, making  it easier for scholars to access information. Nonetheless, integrating AI in  education requires significant investment in infrastructure and teacher training.  Addressing issues of accessibility and equity will be crucial to ensure all students  benefit from AI advancements\n",
      "\n",
      "\n",
      "Translated Text:\n",
      "तंत्रज्ञानामध्ये वेगवान प्रगती करून कृत्रिम बुद्धिमत्ता (एआय) अलिकडच्या वर्षांत एक गूढ शब्द बनली आहे.विविध उद्योगांवर त्याचा परिणाम अभूतपूर्व झाला आहे.एआयमध्ये आपल्या जगण्याच्या आणि कार्य करण्याच्या मार्गावर क्रांती घडविण्याची क्षमता आहे.सेल्फ-ड्रायव्हिंग कारपासून आभासी सहाय्यकांपर्यंत, एआयचे अनुप्रयोग विस्तीर्ण आणि विस्तृत आहेत.तथापि, त्याच्या व्यापक दत्तक घेण्याच्या आसपास चिंता आणि संशय देखील आहेत.एआय आणि रोबोट्स म्हणून नोकरीच्या नुकसानीची चिंता काही लोक आणि रोबोट्स मानवी कार्ये ताब्यात घेतात, तर इतरांना एआयच्या नैतिक परिणामांबद्दल चिंता आहे, विशेषत: गोपनीयता आणि डेटा सुरक्षा यासारख्या भागात.आरोग्य सेवेतील एआयची क्षमता प्रचंड आहे.एआय अनुप्रयोग, जसे की निदान आणि प्रतिमा ओळख, डॉक्टरांना अधिक अचूक निर्णय घेण्यास आणि रुग्णांच्या निकालांमध्ये सुधारणा करण्यास मदत करू शकतात.एआय मानवांना गमावू शकतील अशा ट्रेंड आणि नमुने ओळखण्यासाठी मोठ्या प्रमाणात वैद्यकीय डेटाचे विश्लेषण करू शकते.यामुळे पूर्वीचे रोग आणि अधिक प्रभावी उपचार शोधू शकतात.तथापि, वैद्यकीय क्षेत्रात एआयची अंमलबजावणी करण्यात आव्हाने आहेत.डेटा गोपनीयता, नियामक अनुपालन आणि एआय अल्गोरिदमवर विश्वास ठेवण्यासाठी चिकित्सकांना मिळविणे यासारख्या मुद्द्यांकडे लक्ष देणे आवश्यक असलेल्या काही अडथळे आहेत.शैक्षणिक क्षेत्रात, एआयमध्ये विद्यार्थ्यांना माहिती शिकण्याच्या आणि संवाद साधण्याच्या पद्धतीचे रूपांतर करण्याची क्षमता आहे.एआय समर्थित एडुटेकसह सुसज्ज स्मार्ट क्लासरूम वैयक्तिक शिक्षण शैलीशी जुळवून घेऊ शकतात, सानुकूलित धडे आणि पद्धती प्रदान करतात.एआय चॅटबॉट्स आणि ट्यूटोरियल सिस्टम विद्यार्थ्यांना रिअल-टाइम सहाय्य देतात आणि स्वयंचलित मूल्यांकनासह ग्रेडिंग पेपर्स सुलभ केले जाऊ शकतात.एआय सह, संशोधन आणि डेटा संकलनाच्या प्रक्रियेस गती दिली जाऊ शकते, ज्यामुळे विद्वानांना माहितीमध्ये प्रवेश करणे सुलभ होते.तथापि, शिक्षणात एआय समाकलित करण्यासाठी पायाभूत सुविधा आणि शिक्षक प्रशिक्षणात महत्त्वपूर्ण गुंतवणूक आवश्यक आहे.सर्व विद्यार्थ्यांना एआय प्रगतीचा फायदा होईल हे सुनिश्चित करण्यासाठी प्रवेशयोग्यता आणि इक्विटीच्या समस्यांकडे लक्ष देणे महत्त्वपूर्ण ठरेल\n"
     ]
    }
   ],
   "source": [
    "main()"
   ]
  },
  {
   "cell_type": "markdown",
   "id": "29083b2b",
   "metadata": {},
   "source": [
    "### Hindi to English"
   ]
  },
  {
   "cell_type": "code",
   "execution_count": 81,
   "id": "33220881",
   "metadata": {},
   "outputs": [
    {
     "name": "stdout",
     "output_type": "stream",
     "text": [
      "AI Language Translator App\n",
      "\n",
      "\n",
      "Supported languages:\n",
      "1. English\n",
      "2. Hindi\n",
      "3. Marathi\n",
      "\n",
      "\n",
      "Select the input language (1 to 3): 2\n",
      "\n",
      "\n",
      "Select the target language (1 to 3): 1\n",
      "\n",
      "\n",
      "Enter the text you want to translate: सांगत्यपूर्वक प्रौढत्वात्मक अभिवृद्धि के साथ ही कृत्रिम बुद्धिमत्ता (AI) ने हालिया वर्षों में एक प्रचलित शब्द बन गया है, तकनीक में तेजी से प्रगति के साथ। इसका विभिन्न उद्योगों पर प्रभाव बेमिसाल रहा है।  AI की यह क्षमता है कि यह हमारे जीवन और काम के ढंग को क्रांतिकारी बना सकती है। स्वयं चलने वाली कारों से लेकर वर्चुअल सहायकों तक, AI के अनुप्रयोग विशाल और व्यापक हैं।  हालांकि, इसके व्यापक अपनाने से संबंधित भी चिंताएं और संदेह हैं।  कुछ लोग इस बात की चिंता करते हैं कि AI और रोबोट मानव कार्यों को नष्ट करते हुए हमारी नौकरियों को खतरे में डाल सकते हैं, जबकि दूसरे लोग AI के नैतिक प्रशंसा के संबंध में चिंतित हैं, विशेष रूप से गोपनीयता और डेटा सुरक्षा के क्षेत्र में। स्वास्थ्य संबंधी क्षेत्र में AI की क्षमता अविस्मरणीय है। नॉलेज और छवि पहचान जैसे AI अनुप्रयोग चिकित्सकों को अधिक सटीक निर्णय लेने में मदद कर सकते हैं और रोगियों के परिणामों को सुधार सकते हैं।  AI बड़ी मात्रा में चिकित्सा डेटा का विश्लेषण कर सकता है और ऐसे रुझानों और पैटर्नों की पहचान कर सकता है जिन्हें मानव अनदेखा कर सकते हैं।  इससे रोगों की पहचान को पहले से ही किया जा सकता है और इससे अधिक प्रभावी उपचार हो सकते हैं। हालांकि, चिकित्सा क्षेत्र में AI को लागू करने में चुनौतियाँ हैं।  डेटा गोपनीयता, नियामकीय अनुपालन, और चिकित्सकों को AI एल्गोरिदम पर विश्वास कराने की मुद्दतें इनमें से कुछ हैं जिन्हें पता करना होगा। शैक्षिक क्षेत्र में, AI की क्षमता छात्रों को पढ़ने और जानकारी के साथ संवाद करने का ढंग बदलने की संभावना है।  एडुटेक से संचालित स्मार्ट कक्षाएं व्यक्तिगत शिक्षा शैलियों को अनुकूलित करके विशेषज्ञगणों और अभ्यासों को प्रदान कर सकती हैं।  AI चैटबॉट और ट्यूटोरियल सिस्टम छात्रों को वास्तविक समय में सहायता प्रदान करते हैं, और पेपरों के ग्रेडिंग को स्वचालित मूल्यांकन से सरल बना सकते हैं।  AI के साथ, शोध और डेटा संग्रह की प्रक्रिया को तेजी से किया जा सकता है, जिससे विद्वानों को जानकारी तक पहुंचना आसान हो जाएगा।  तथापि, शिक्षा में AI को एकीकरण करने के लिए बड़े पैमाने पर अनुपूर्व निवेश की आवश्यकता होगी।  पहुंचने और समानता के मुद्दों का सामना करना महत्वपूर्ण होगा ताकि सभी छात्र AI की प्रगतियों से लाभान्वित हो सकें।\n",
      "\n",
      "\n",
      "Translated Text:\n",
      "Artificial intelligence (AI) has become a popular word in recent years, with rapid progress in technology, with rapid progress in technology, along with sangathayasatically technical growth.Its influence on various industries has been unmatched.AI has the ability that it can revolutionize our life and work.From self -running cars to virtual assistants, AI applications are huge and wider.However, there are also concerns and doubts related to its extensive adoption.Some people worry that AI and robots may endanger our jobs by destroying human functions, while others are concerned about AI's moral praise, especially in the field of privacy and data security.The AI capacity in the health sector is unforgettable.AI applications such as knowledge and image identity can help doctors make more accurate decisions and improve patients results.AI can analyze large amounts of medical data and identify such trends and patterns that humans can ignore.This can already be identified by diseases and can lead to more effective treatment.However, there are challenges in implementing AI in the medical field.Data secrecy, regulatory compliance, and the issues of believing physicians on AI algorithms are some of them who have to know.In the educational field, AI's ability is likely to change the way students read and communicate with information.Smart class -run smart classes can provide experts and exercises by adapting individual education styles.AI chatbott and tutorial systems provide real -time assistance to students, and can simplify the grading of papers with automatic evaluation.With AI, the process of research and data collection can be done rapidly, making it easier for scholars to reach information.However, the integration of AI in education will require a large -scale supplementary investment.It will be important to face issues of arrival and equality so that all students can benefit from AI's promises.\n"
     ]
    }
   ],
   "source": [
    "main()"
   ]
  },
  {
   "cell_type": "markdown",
   "id": "4c604dba",
   "metadata": {},
   "source": [
    "### Hindi to Marathi"
   ]
  },
  {
   "cell_type": "code",
   "execution_count": 82,
   "id": "51aa1689",
   "metadata": {},
   "outputs": [
    {
     "name": "stdout",
     "output_type": "stream",
     "text": [
      "AI Language Translator App\n",
      "\n",
      "\n",
      "Supported languages:\n",
      "1. English\n",
      "2. Hindi\n",
      "3. Marathi\n",
      "\n",
      "\n",
      "Select the input language (1 to 3): 2\n",
      "\n",
      "\n",
      "Select the target language (1 to 3): 3\n",
      "\n",
      "\n",
      "Enter the text you want to translate: सांगत्यपूर्वक प्रौढत्वात्मक अभिवृद्धि के साथ ही कृत्रिम बुद्धिमत्ता (AI) ने हालिया वर्षों में एक प्रचलित शब्द बन गया है, तकनीक में तेजी से प्रगति के साथ। इसका विभिन्न उद्योगों पर प्रभाव बेमिसाल रहा है।  AI की यह क्षमता है कि यह हमारे जीवन और काम के ढंग को क्रांतिकारी बना सकती है। स्वयं चलने वाली कारों से लेकर वर्चुअल सहायकों तक, AI के अनुप्रयोग विशाल और व्यापक हैं।  हालांकि, इसके व्यापक अपनाने से संबंधित भी चिंताएं और संदेह हैं।  कुछ लोग इस बात की चिंता करते हैं कि AI और रोबोट मानव कार्यों को नष्ट करते हुए हमारी नौकरियों को खतरे में डाल सकते हैं, जबकि दूसरे लोग AI के नैतिक प्रशंसा के संबंध में चिंतित हैं, विशेष रूप से गोपनीयता और डेटा सुरक्षा के क्षेत्र में। स्वास्थ्य संबंधी क्षेत्र में AI की क्षमता अविस्मरणीय है। नॉलेज और छवि पहचान जैसे AI अनुप्रयोग चिकित्सकों को अधिक सटीक निर्णय लेने में मदद कर सकते हैं और रोगियों के परिणामों को सुधार सकते हैं।  AI बड़ी मात्रा में चिकित्सा डेटा का विश्लेषण कर सकता है और ऐसे रुझानों और पैटर्नों की पहचान कर सकता है जिन्हें मानव अनदेखा कर सकते हैं।  इससे रोगों की पहचान को पहले से ही किया जा सकता है और इससे अधिक प्रभावी उपचार हो सकते हैं। हालांकि, चिकित्सा क्षेत्र में AI को लागू करने में चुनौतियाँ हैं।  डेटा गोपनीयता, नियामकीय अनुपालन, और चिकित्सकों को AI एल्गोरिदम पर विश्वास कराने की मुद्दतें इनमें से कुछ हैं जिन्हें पता करना होगा। शैक्षिक क्षेत्र में, AI की क्षमता छात्रों को पढ़ने और जानकारी के साथ संवाद करने का ढंग बदलने की संभावना है।  एडुटेक से संचालित स्मार्ट कक्षाएं व्यक्तिगत शिक्षा शैलियों को अनुकूलित करके विशेषज्ञगणों और अभ्यासों को प्रदान कर सकती हैं।  AI चैटबॉट और ट्यूटोरियल सिस्टम छात्रों को वास्तविक समय में सहायता प्रदान करते हैं, और पेपरों के ग्रेडिंग को स्वचालित मूल्यांकन से सरल बना सकते हैं।  AI के साथ, शोध और डेटा संग्रह की प्रक्रिया को तेजी से किया जा सकता है, जिससे विद्वानों को जानकारी तक पहुंचना आसान हो जाएगा।  तथापि, शिक्षा में AI को एकीकरण करने के लिए बड़े पैमाने पर अनुपूर्व निवेश की आवश्यकता होगी।  पहुंचने और समानता के मुद्दों का सामना करना महत्वपूर्ण होगा ताकि सभी छात्र AI की प्रगतियों से लाभान्वित हो सकें।\n",
      "\n",
      "\n",
      "Translated Text:\n",
      "कृत्रिम बुद्धिमत्ता (एआय) अलिकडच्या वर्षांत एक लोकप्रिय शब्द बनली आहे, तंत्रज्ञानामध्ये वेगवान प्रगतीसह, तंत्रज्ञानात वेगवान प्रगतीसह, संगथायासिकदृष्ट्या तांत्रिक वाढीसह.विविध उद्योगांवर त्याचा प्रभाव अतुलनीय आहे.एआयमध्ये आपल्या जीवनात आणि कार्यात क्रांती घडवून आणण्याची क्षमता आहे.स्व -रनिंग कारपासून आभासी सहाय्यकांपर्यंत, एआय अनुप्रयोग प्रचंड आणि विस्तीर्ण आहेत.तथापि, त्याच्या व्यापक दत्तक संबंधित चिंता आणि शंका देखील आहेत.काही लोकांना अशी भीती वाटते की एआय आणि रोबोट्स मानवी कार्ये नष्ट करून आपल्या नोकरीला धोक्यात आणू शकतात, तर इतरांना एआयच्या नैतिक स्तुतीबद्दल चिंता आहे, विशेषत: गोपनीयता आणि डेटा सुरक्षेच्या क्षेत्रात.आरोग्य क्षेत्रातील एआय क्षमता अविस्मरणीय आहे.ज्ञान आणि प्रतिमा ओळख यासारख्या एआय अनुप्रयोगांमुळे डॉक्टरांना अधिक अचूक निर्णय घेण्यास आणि रूग्णांचे निकाल सुधारण्यास मदत होते.एआय मोठ्या प्रमाणात वैद्यकीय डेटाचे विश्लेषण करू शकते आणि मानवांकडे दुर्लक्ष करू शकणारे असे ट्रेंड आणि नमुने ओळखू शकते.हे आधीच रोगांद्वारे ओळखले जाऊ शकते आणि अधिक प्रभावी उपचार होऊ शकते.तथापि, वैद्यकीय क्षेत्रात एआयची अंमलबजावणी करण्यात आव्हाने आहेत.डेटा गुप्तता, नियामक अनुपालन आणि एआय अल्गोरिदमवरील विश्वास ठेवणार्‍या चिकित्सकांचे मुद्दे त्यांच्यापैकी काही आहेत ज्यांना माहित असले पाहिजे.शैक्षणिक क्षेत्रात, एआयची क्षमता विद्यार्थ्यांना माहिती वाचण्याची आणि संप्रेषण करण्याचा मार्ग बदलण्याची शक्यता आहे.स्मार्ट क्लास -रन स्मार्ट वर्ग वैयक्तिक शिक्षण शैली अनुकूल करून तज्ञ आणि व्यायाम प्रदान करू शकतात.एआय चॅटबॉट आणि ट्यूटोरियल सिस्टम विद्यार्थ्यांना वास्तविक -वेळ मदत प्रदान करतात आणि स्वयंचलित मूल्यांकनासह पेपर्सचे ग्रेडिंग सुलभ करू शकतात.एआय सह, संशोधन आणि डेटा संकलनाची प्रक्रिया वेगाने केली जाऊ शकते, ज्यामुळे विद्वानांना माहितीपर्यंत पोहोचणे सुलभ होते.तथापि, शिक्षणात एआयच्या समाकलनास मोठ्या प्रमाणात पूरक गुंतवणूकीची आवश्यकता असेल.आगमन आणि समानतेच्या मुद्द्यांना सामोरे जाणे महत्वाचे असेल जेणेकरून सर्व विद्यार्थ्यांना एआयच्या आश्वासनांचा फायदा होऊ शकेल.\n"
     ]
    }
   ],
   "source": [
    "main()"
   ]
  },
  {
   "cell_type": "markdown",
   "id": "9a8e84cc",
   "metadata": {},
   "source": [
    "### Marathi to English"
   ]
  },
  {
   "cell_type": "code",
   "execution_count": 83,
   "id": "aa79a32e",
   "metadata": {},
   "outputs": [
    {
     "name": "stdout",
     "output_type": "stream",
     "text": [
      "AI Language Translator App\n",
      "\n",
      "\n",
      "Supported languages:\n",
      "1. English\n",
      "2. Hindi\n",
      "3. Marathi\n",
      "\n",
      "\n",
      "Select the input language (1 to 3): 3\n",
      "\n",
      "\n",
      "Select the target language (1 to 3): 1\n",
      "\n",
      "\n",
      "Enter the text you want to translate: कृत्रिम बुद्धिमत्ता (AI) ही अंतरंग वर्षांत सुचलीली एक खोली शब्दव्यापारिक सापडली आहे,  तक्रार तंत्रज्ञानातील द्रुत अग्रसरता असलेल्या. इथील तिकडंतरी तीव्र प्रभाव होतंय सर्वांच्या उद्योगांवर.  AI ची क्षमता अद्भुत आहे, ज्यामुळे ती स्वयंचालित गाड्यांपासून व्यक्तिगत सहाय्यकांपर्यंत विविध अनुप्रयोग करू शकते.  आणखीही तरंगटनांतर ती अप्लायची केलेल्या प्रमुखतेच्या दुसऱ्या पद्धतीतील वापरणारा शब्द आहे.  परंतु, तिच्या अंदाजाचं घेतल्यास, ती घेतल्यासाची विचारांच्या आणि संदेहांची संख्या वाढते.  काहींच विचार आहे की AI आणि रोबोटं मानवांच्या कामांचं वेगवेगळं काम करताना नोकरीचं कमी करू शकतात, ज्यासह म्हणजे काहींच नोकरी संपतानाची अनिच्छा पैदा करू शकतात.  तरी, इतरांनी तीच्या नैतिक अर्थांतर्गत उपयोगाच्या संबंधात संशय करत आहेत, विशेषतः गोपनीयता आणि डेटा सुरक्षेच्या क्षेत्रांत.  आरोग्य संबंधी क्षेत्रात, AI ची क्षमता विस्मयकारक आहे. नोंदवण्या आणि छवि पहचाण यांचे AI अनुप्रयोग वैद्यकीय निर्णय आणि रुग्णांच्या परिणामांच्या किंवा प्रक्रियांच्या सुधारणेस सहाय्यक करू शकतात.  AI आपल्याकडे विशाल माहितीच्या आंकड्यांचा विश्लेषण करू शकते आणि ज्यामुळे मानवांना विचारता येत नाही, त्यामुळे रोगांची ओळख पहल्यासेही करण्यात येते आणि त्यामुळे प्रभावी उपचार साधायचे आहे.  पण आरोग्य संबंधी क्षेत्रात AI लागू करण्यात आणखी चांगली कठीणता आहे.  डेटा गोपनीयता, शासकीय संघटना अभियांत्रिकी, आणि वैद्यकीय विशेषज्ञांनी AI अल्गोरिदमांवर विश्वास कसा आणावा हे काही अडचणीचे कारण आहे. शिक्षणाच्या क्षेत्रात, AI ची क्षमता विद्यार्थ्यांच्या शिकवण्या आणि माहितीसंचयासह संवाद साधण्याच्या ढंगाचं बदलण्याची संभावना आहे.  एडुटेकने संचालित स्मार्ट कक्षांमध्ये विशिष्ट शिकवण्याच्या शैल्यांचं समायोजन केल्यास, विद्यार्थ्यांना अभ्यासांची विशेषज्ञता आणि प्रक्रियांची प्रदान करू शकते.  AI चॅटबॉट्स आणि ट्यूटोरियल सिस्टम विद्यार्थ्यांना व्यावसायिक काळजी प्रदान करतात, आणि पेपर्सच्या श्रेणींकरणासाठी स्वयंचालित मूल्यांकन केला जातो.  AI सह शोध आणि डेटा संग्रहाची प्रक्रिया वेगवेगळ्या करण्यास योग्य आहे, ज्यामुळे पंडितांना माहितीसंचय उपलब्ध करण्यास आसान होते.  परंतु, शिक्षणात AI ची संचालनाशी संबद्धता आणि शिक्षक प्रशिक्षणासाठी मोठी निवेश आवश्यक आहे.  पहुंचताना आणि समानतेच्या परिस्थितीत सर्व विद्यार्थ्यांना AI उन्नतीत लाभान्वित होण्यासाठी महत्वाचं आहे.\n",
      "\n",
      "\n",
      "Translated Text:\n",
      "Artificial intelligence (AI) has been found in a room that has been suggested in intimate years, with a quick leading lead in complaint technology.There is a sharp impact on all the industries.The capacity of AI is wonderful, which allows it to make various applications, from self -controlling trains to personal assistants.Even more wavelength is the word used in the second method of urgency.But, if you take her estimate, the number of thoughts and doubts of her is increased.Some think that A and robots can reduce their jobs while working differently, which means that some can be reluctant to end their jobs.Nevertheless, others are suspected of using her moral meaning, especially in the fields of privacy and data safety.In the area of health, the capacity of AI's capacity is wonderful.AI applications of registration and chickens can assist with decisions and improvement of patients' consequences or procedures.AI can analyze the vast information statistics and that that humans do not ask, so the disease is also identified and therefore wants to get effective treatment.But there is a better way to implement AI in the health of the health.Data Privacy, Government Organization Engineering, and Medical Experts have some reason to trust AI algorithms.In the field of education, the capacity of AI is likely to be changed to communicate with students' teachings and information.If Adutek adjusts the styles of specific teaching in the smart rooms operated by Adutek, the students can provide specialization and processes of study.AI chatbots and tutorial systems provide commercial care, and self -evaluated for the range of papers.The process of searching and data collection with AI is perfect for differentiate, which makes the pundits off to provide information.But in education, AI requires a great deal of concern for the operating and teacher training.It is important for all students to benefit from the AI advancement in the event of equality.\n"
     ]
    }
   ],
   "source": [
    "main()"
   ]
  },
  {
   "cell_type": "markdown",
   "id": "6ce715a4",
   "metadata": {},
   "source": [
    "### Marathi to Hindi"
   ]
  },
  {
   "cell_type": "code",
   "execution_count": 84,
   "id": "1f97f525",
   "metadata": {},
   "outputs": [
    {
     "name": "stdout",
     "output_type": "stream",
     "text": [
      "AI Language Translator App\n",
      "\n",
      "\n",
      "Supported languages:\n",
      "1. English\n",
      "2. Hindi\n",
      "3. Marathi\n",
      "\n",
      "\n",
      "Select the input language (1 to 3): 3\n",
      "\n",
      "\n",
      "Select the target language (1 to 3): 2\n",
      "\n",
      "\n",
      "Enter the text you want to translate: कृत्रिम बुद्धिमत्ता (AI) ही अंतरंग वर्षांत सुचलीली एक खोली शब्दव्यापारिक सापडली आहे,  तक्रार तंत्रज्ञानातील द्रुत अग्रसरता असलेल्या. इथील तिकडंतरी तीव्र प्रभाव होतंय सर्वांच्या उद्योगांवर.  AI ची क्षमता अद्भुत आहे, ज्यामुळे ती स्वयंचालित गाड्यांपासून व्यक्तिगत सहाय्यकांपर्यंत विविध अनुप्रयोग करू शकते.  आणखीही तरंगटनांतर ती अप्लायची केलेल्या प्रमुखतेच्या दुसऱ्या पद्धतीतील वापरणारा शब्द आहे.  परंतु, तिच्या अंदाजाचं घेतल्यास, ती घेतल्यासाची विचारांच्या आणि संदेहांची संख्या वाढते.  काहींच विचार आहे की AI आणि रोबोटं मानवांच्या कामांचं वेगवेगळं काम करताना नोकरीचं कमी करू शकतात, ज्यासह म्हणजे काहींच नोकरी संपतानाची अनिच्छा पैदा करू शकतात.  तरी, इतरांनी तीच्या नैतिक अर्थांतर्गत उपयोगाच्या संबंधात संशय करत आहेत, विशेषतः गोपनीयता आणि डेटा सुरक्षेच्या क्षेत्रांत.  आरोग्य संबंधी क्षेत्रात, AI ची क्षमता विस्मयकारक आहे. नोंदवण्या आणि छवि पहचाण यांचे AI अनुप्रयोग वैद्यकीय निर्णय आणि रुग्णांच्या परिणामांच्या किंवा प्रक्रियांच्या सुधारणेस सहाय्यक करू शकतात.  AI आपल्याकडे विशाल माहितीच्या आंकड्यांचा विश्लेषण करू शकते आणि ज्यामुळे मानवांना विचारता येत नाही, त्यामुळे रोगांची ओळख पहल्यासेही करण्यात येते आणि त्यामुळे प्रभावी उपचार साधायचे आहे.  पण आरोग्य संबंधी क्षेत्रात AI लागू करण्यात आणखी चांगली कठीणता आहे.  डेटा गोपनीयता, शासकीय संघटना अभियांत्रिकी, आणि वैद्यकीय विशेषज्ञांनी AI अल्गोरिदमांवर विश्वास कसा आणावा हे काही अडचणीचे कारण आहे. शिक्षणाच्या क्षेत्रात, AI ची क्षमता विद्यार्थ्यांच्या शिकवण्या आणि माहितीसंचयासह संवाद साधण्याच्या ढंगाचं बदलण्याची संभावना आहे.  एडुटेकने संचालित स्मार्ट कक्षांमध्ये विशिष्ट शिकवण्याच्या शैल्यांचं समायोजन केल्यास, विद्यार्थ्यांना अभ्यासांची विशेषज्ञता आणि प्रक्रियांची प्रदान करू शकते.  AI चॅटबॉट्स आणि ट्यूटोरियल सिस्टम विद्यार्थ्यांना व्यावसायिक काळजी प्रदान करतात, आणि पेपर्सच्या श्रेणींकरणासाठी स्वयंचालित मूल्यांकन केला जातो.  AI सह शोध आणि डेटा संग्रहाची प्रक्रिया वेगवेगळ्या करण्यास योग्य आहे, ज्यामुळे पंडितांना माहितीसंचय उपलब्ध करण्यास आसान होते.  परंतु, शिक्षणात AI ची संचालनाशी संबद्धता आणि शिक्षक प्रशिक्षणासाठी मोठी निवेश आवश्यक आहे.  पहुंचताना आणि समानतेच्या परिस्थितीत सर्व विद्यार्थ्यांना AI उन्नतीत लाभान्वित होण्यासाठी महत्वाचं आहे.\n",
      "\n",
      "\n",
      "Translated Text:\n",
      "आर्टिफिशियल इंटेलिजेंस (एआई) एक कमरे में पाया गया है जिसे अंतरंग वर्षों में सुझाव दिया गया है, शिकायत प्रौद्योगिकी में एक त्वरित अग्रणी नेतृत्व के साथ।सभी उद्योगों पर तेज प्रभाव पड़ता है।एआई की क्षमता अद्भुत है, जो इसे विभिन्न अनुप्रयोगों को बनाने की अनुमति देती है, स्व -नियंत्रण वाली गाड़ियों से लेकर व्यक्तिगत सहायकों तक।इससे भी अधिक तरंग दैर्ध्य तात्कालिकता की दूसरी विधि में उपयोग किया जाने वाला शब्द है।लेकिन, यदि आप उसका अनुमान लगाते हैं, तो उसके विचारों और संदेह की संख्या बढ़ जाती है।कुछ लोग सोचते हैं कि ए और रोबोट अलग तरह से काम करते हुए अपनी नौकरी को कम कर सकते हैं, जिसका अर्थ है कि कुछ अपनी नौकरी समाप्त करने के लिए अनिच्छुक हो सकते हैं।फिर भी, दूसरों को उसके नैतिक अर्थ का उपयोग करने का संदेह है, विशेष रूप से गोपनीयता और डेटा सुरक्षा के क्षेत्र में।स्वास्थ्य के क्षेत्र में, एआई की क्षमता की क्षमता अद्भुत है।पंजीकरण और मुर्गियों के एआई आवेदन मरीजों के परिणामों या प्रक्रियाओं में निर्णय और सुधार के साथ सहायता कर सकते हैं।एआई विशाल सूचना के आंकड़ों का विश्लेषण कर सकता है और यह कि मनुष्य नहीं पूछते हैं, इसलिए बीमारी की पहचान भी की जाती है और इसलिए वे प्रभावी उपचार प्राप्त करना चाहते हैं।लेकिन स्वास्थ्य के स्वास्थ्य में एआई को लागू करने का एक बेहतर तरीका है।डेटा गोपनीयता, सरकारी संगठन इंजीनियरिंग, और चिकित्सा विशेषज्ञों के पास एआई एल्गोरिदम पर भरोसा करने का कुछ कारण है।शिक्षा के क्षेत्र में, एआई की क्षमता को छात्रों की शिक्षाओं और सूचनाओं के साथ संवाद करने के लिए बदल दिया जा सकता है।यदि Adutek Adutek द्वारा संचालित स्मार्ट कमरों में विशिष्ट शिक्षण की शैलियों को समायोजित करता है, तो छात्र अध्ययन की विशेषज्ञता और प्रक्रियाएं प्रदान कर सकते हैं।एआई चैटबॉट्स और ट्यूटोरियल सिस्टम वाणिज्यिक देखभाल प्रदान करते हैं, और कागजात की सीमा के लिए स्व -विकसित होते हैं।एआई के साथ खोज और डेटा संग्रह की प्रक्रिया अंतर के लिए एकदम सही है, जो जानकारी प्रदान करने के लिए पंडितों को बंद कर देती है।लेकिन शिक्षा में, एआई को ऑपरेटिंग और शिक्षक प्रशिक्षण के लिए बहुत चिंता की आवश्यकता है।सभी छात्रों के लिए समानता की स्थिति में एआई उन्नति से लाभ उठाना महत्वपूर्ण है।\n"
     ]
    }
   ],
   "source": [
    "main()"
   ]
  },
  {
   "cell_type": "code",
   "execution_count": null,
   "id": "1b7facf8",
   "metadata": {},
   "outputs": [],
   "source": []
  }
 ],
 "metadata": {
  "kernelspec": {
   "display_name": "Python 3 (ipykernel)",
   "language": "python",
   "name": "python3"
  },
  "language_info": {
   "codemirror_mode": {
    "name": "ipython",
    "version": 3
   },
   "file_extension": ".py",
   "mimetype": "text/x-python",
   "name": "python",
   "nbconvert_exporter": "python",
   "pygments_lexer": "ipython3",
   "version": "3.9.13"
  }
 },
 "nbformat": 4,
 "nbformat_minor": 5
}
